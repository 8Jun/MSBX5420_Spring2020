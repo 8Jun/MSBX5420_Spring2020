{
 "cells": [
  {
   "cell_type": "code",
   "execution_count": null,
   "metadata": {},
   "outputs": [],
   "source": [
    "# input file path is here\n",
    "input_data_path = './big_data_intro.txt'\n",
    "\n",
    "# use python dictionary to save word to count, (key is word, value is count)\n",
    "word_count_dict = {}\n",
    "\n",
    "# open the data file to read\n",
    "with open(data_path, 'r') as f:\n",
    "    # iterate each line in that data file\n",
    "    for line in f:\n",
    "        # split the line to word list\n",
    "        words = line.split()\n",
    "        # iterate each word\n",
    "        for word in words:\n",
    "            # if the word is not inside the dictionary\n",
    "            if word not in word_count_dict:\n",
    "                # add that word to the dictionary and set count to 0\n",
    "                word_count_dict[word] = 0\n",
    "           \n",
    "            # increase the count by 1\n",
    "            word_count_dict[word] += 1\n",
    "\n",
    "# iterate all items in the dictionary\n",
    "for word, count in word_count_dict.iteritems():\n",
    "    # print the word and count\n",
    "    print(word, count)"
   ]
  }
 ],
 "metadata": {
  "kernelspec": {
   "display_name": "Python 2",
   "language": "python",
   "name": "python2"
  },
  "language_info": {
   "codemirror_mode": {
    "name": "ipython",
    "version": 2
   },
   "file_extension": ".py",
   "mimetype": "text/x-python",
   "name": "python",
   "nbconvert_exporter": "python",
   "pygments_lexer": "ipython2",
   "version": "2.7.13"
  }
 },
 "nbformat": 4,
 "nbformat_minor": 4
}
