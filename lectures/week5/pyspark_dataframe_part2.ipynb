{
 "cells": [
  {
   "cell_type": "markdown",
   "metadata": {},
   "source": [
    "# Create SparkSession"
   ]
  },
  {
   "cell_type": "code",
   "execution_count": 95,
   "metadata": {},
   "outputs": [],
   "source": [
    "# import pyspark class Row from module sql\n",
    "from pyspark.sql import *\n",
    "from pyspark.sql import SparkSession\n",
    "\n",
    "spark = SparkSession.builder.getOrCreate()"
   ]
  },
  {
   "cell_type": "markdown",
   "metadata": {},
   "source": [
    "## Create Example Data - Departments and Employees"
   ]
  },
  {
   "cell_type": "code",
   "execution_count": 75,
   "metadata": {},
   "outputs": [
    {
     "name": "stdout",
     "output_type": "stream",
     "text": [
      "Row(id='123456', name='Computer Science')\n",
      "Row(firstName='xiangrui', lastName='meng', email='no-reply@stanford.edu', salary=120000)\n",
      "no-reply@berkeley.edu\n"
     ]
    }
   ],
   "source": [
    "# Create the Departments\n",
    "department1 = Row(id='123456', name='Computer Science')\n",
    "department2 = Row(id='789012', name='Mechanical Engineering')\n",
    "department3 = Row(id='345678', name='Theater and Drama')\n",
    "department4 = Row(id='901234', name='Indoor Recreation')\n",
    "\n",
    "# Create the Employees\n",
    "Employee = Row(\"firstName\", \"lastName\", \"email\", \"salary\")\n",
    "employee1 = Employee('michael', 'armbrust', 'no-reply@berkeley.edu', 100000)\n",
    "employee2 = Employee('xiangrui', 'meng', 'no-reply@stanford.edu', 120000)\n",
    "employee3 = Employee('matei', None, 'no-reply@waterloo.edu', 140000)\n",
    "employee4 = Employee(None, 'wendell', 'no-reply@berkeley.edu', 160000)\n",
    "employee5 = Employee('michael', 'jackson', 'no-reply@neverla.nd', 80000)\n",
    "\n",
    "# Create the DepartmentWithEmployees instances from Departments and Employees\n",
    "departmentWithEmployees1 = Row(department=department1, employees=[employee1, employee2])\n",
    "departmentWithEmployees2 = Row(department=department2, employees=[employee3, employee4])\n",
    "departmentWithEmployees3 = Row(department=department3, employees=[employee5, employee4])\n",
    "departmentWithEmployees4 = Row(department=department4, employees=[employee2, employee3])\n",
    "\n",
    "print(department1)\n",
    "print(employee2)\n",
    "print(departmentWithEmployees1.employees[0].email)"
   ]
  },
  {
   "cell_type": "markdown",
   "metadata": {},
   "source": [
    "## Create DataFrames from a list of the rows\n"
   ]
  },
  {
   "cell_type": "code",
   "execution_count": 99,
   "metadata": {},
   "outputs": [
    {
     "data": {
      "text/plain": [
       "DataFrame[department: struct<id:string,name:string>, employees: array<struct<firstName:string,lastName:string,email:string,salary:bigint>>]"
      ]
     },
     "metadata": {},
     "output_type": "display_data"
    },
    {
     "name": "stdout",
     "output_type": "stream",
     "text": [
      "+--------------------------------+-----------------------------------------------------------------------------------------------------+\n",
      "|department                      |employees                                                                                            |\n",
      "+--------------------------------+-----------------------------------------------------------------------------------------------------+\n",
      "|[123456, Computer Science]      |[[michael, armbrust, no-reply@berkeley.edu, 100000], [xiangrui, meng, no-reply@stanford.edu, 120000]]|\n",
      "|[789012, Mechanical Engineering]|[[matei,, no-reply@waterloo.edu, 140000], [, wendell, no-reply@berkeley.edu, 160000]]                |\n",
      "+--------------------------------+-----------------------------------------------------------------------------------------------------+\n",
      "\n"
     ]
    },
    {
     "data": {
      "text/plain": [
       "DataFrame[department: struct<id:string,name:string>, employees: array<struct<firstName:string,lastName:string,email:string,salary:bigint>>]"
      ]
     },
     "metadata": {},
     "output_type": "display_data"
    },
    {
     "name": "stdout",
     "output_type": "stream",
     "text": [
      "+---------------------------+--------------------------------------------------------------------------------------------+\n",
      "|department                 |employees                                                                                   |\n",
      "+---------------------------+--------------------------------------------------------------------------------------------+\n",
      "|[345678, Theater and Drama]|[[michael, jackson, no-reply@neverla.nd, 80000], [, wendell, no-reply@berkeley.edu, 160000]]|\n",
      "|[901234, Indoor Recreation]|[[xiangrui, meng, no-reply@stanford.edu, 120000], [matei,, no-reply@waterloo.edu, 140000]]  |\n",
      "+---------------------------+--------------------------------------------------------------------------------------------+\n",
      "\n"
     ]
    }
   ],
   "source": [
    "departmentsWithEmployeesSeq1 = [departmentWithEmployees1, departmentWithEmployees2]\n",
    "df1 = spark.createDataFrame(departmentsWithEmployeesSeq1)\n",
    "\n",
    "display(df1)\n",
    "df1.show(10, False)\n",
    "\n",
    "departmentsWithEmployeesSeq2 = [departmentWithEmployees3, departmentWithEmployees4]\n",
    "df2 = spark.createDataFrame(departmentsWithEmployeesSeq2)\n",
    "\n",
    "display(df2)\n",
    "df2.show(10, False)\n"
   ]
  },
  {
   "cell_type": "markdown",
   "metadata": {},
   "source": [
    "# Work with DataFrames"
   ]
  },
  {
   "cell_type": "markdown",
   "metadata": {},
   "source": [
    "## Union two DataFrames"
   ]
  },
  {
   "cell_type": "code",
   "execution_count": 100,
   "metadata": {},
   "outputs": [
    {
     "data": {
      "text/plain": [
       "DataFrame[department: struct<id:string,name:string>, employees: array<struct<firstName:string,lastName:string,email:string,salary:bigint>>]"
      ]
     },
     "metadata": {},
     "output_type": "display_data"
    },
    {
     "name": "stdout",
     "output_type": "stream",
     "text": [
      "+--------------------------------+-----------------------------------------------------------------------------------------------------+\n",
      "|department                      |employees                                                                                            |\n",
      "+--------------------------------+-----------------------------------------------------------------------------------------------------+\n",
      "|[123456, Computer Science]      |[[michael, armbrust, no-reply@berkeley.edu, 100000], [xiangrui, meng, no-reply@stanford.edu, 120000]]|\n",
      "|[789012, Mechanical Engineering]|[[matei,, no-reply@waterloo.edu, 140000], [, wendell, no-reply@berkeley.edu, 160000]]                |\n",
      "|[345678, Theater and Drama]     |[[michael, jackson, no-reply@neverla.nd, 80000], [, wendell, no-reply@berkeley.edu, 160000]]         |\n",
      "|[901234, Indoor Recreation]     |[[xiangrui, meng, no-reply@stanford.edu, 120000], [matei,, no-reply@waterloo.edu, 140000]]           |\n",
      "+--------------------------------+-----------------------------------------------------------------------------------------------------+\n",
      "\n"
     ]
    }
   ],
   "source": [
    "unionDF = df1.union(df2)\n",
    "display(unionDF)\n",
    "unionDF.show(10, False)"
   ]
  },
  {
   "cell_type": "markdown",
   "metadata": {},
   "source": [
    "## Write the unioned DataFrame to a json file"
   ]
  },
  {
   "cell_type": "code",
   "execution_count": 79,
   "metadata": {},
   "outputs": [],
   "source": [
    "import os\n",
    "import shutil\n",
    "\n",
    "json_path = \"./df-example_json\"\n",
    "if os.path.exists(json_path):\n",
    "    shutil.rmtree(json_path)\n",
    "    \n",
    "unionDF.write.format('json').save(json_path)"
   ]
  },
  {
   "cell_type": "markdown",
   "metadata": {},
   "source": [
    "## Write the unioned DataFrame to a Parquet file"
   ]
  },
  {
   "cell_type": "code",
   "execution_count": 80,
   "metadata": {},
   "outputs": [],
   "source": [
    "# Remove the file if it exists\n",
    "parquet_path = \"./df-example.parquet\"\n",
    "if os.path.exists(parquet_path):\n",
    "    shutil.rmtree(parquet_path)\n",
    "\n",
    "unionDF.write.parquet(parquet_path)"
   ]
  },
  {
   "cell_type": "markdown",
   "metadata": {},
   "source": [
    "## Read a DataFrame from the Parquet file"
   ]
  },
  {
   "cell_type": "code",
   "execution_count": 81,
   "metadata": {},
   "outputs": [
    {
     "data": {
      "text/plain": [
       "DataFrame[department: struct<id:string,name:string>, employees: array<struct<firstName:string,lastName:string,email:string,salary:bigint>>]"
      ]
     },
     "metadata": {},
     "output_type": "display_data"
    }
   ],
   "source": [
    "parquetDF = spark.read.parquet(parquet_path)\n",
    "display(parquetDF)"
   ]
  },
  {
   "cell_type": "markdown",
   "metadata": {},
   "source": [
    "## Explode the employees column"
   ]
  },
  {
   "cell_type": "code",
   "execution_count": 101,
   "metadata": {},
   "outputs": [
    {
     "name": "stdout",
     "output_type": "stream",
     "text": [
      "+--------------------------------------------------+\n",
      "|e                                                 |\n",
      "+--------------------------------------------------+\n",
      "|[michael, armbrust, no-reply@berkeley.edu, 100000]|\n",
      "|[xiangrui, meng, no-reply@stanford.edu, 120000]   |\n",
      "|[matei,, no-reply@waterloo.edu, 140000]           |\n",
      "|[, wendell, no-reply@berkeley.edu, 160000]        |\n",
      "|[michael, jackson, no-reply@neverla.nd, 80000]    |\n",
      "|[, wendell, no-reply@berkeley.edu, 160000]        |\n",
      "|[xiangrui, meng, no-reply@stanford.edu, 120000]   |\n",
      "|[matei,, no-reply@waterloo.edu, 140000]           |\n",
      "+--------------------------------------------------+\n",
      "\n",
      "+---------+--------+---------------------+------+\n",
      "|firstName|lastName|email                |salary|\n",
      "+---------+--------+---------------------+------+\n",
      "|michael  |armbrust|no-reply@berkeley.edu|100000|\n",
      "|xiangrui |meng    |no-reply@stanford.edu|120000|\n",
      "|matei    |null    |no-reply@waterloo.edu|140000|\n",
      "|null     |wendell |no-reply@berkeley.edu|160000|\n",
      "|michael  |jackson |no-reply@neverla.nd  |80000 |\n",
      "|null     |wendell |no-reply@berkeley.edu|160000|\n",
      "|xiangrui |meng    |no-reply@stanford.edu|120000|\n",
      "|matei    |null    |no-reply@waterloo.edu|140000|\n",
      "+---------+--------+---------------------+------+\n",
      "\n"
     ]
    }
   ],
   "source": [
    "from pyspark.sql.functions import explode\n",
    "\n",
    "explodeDF = unionDF.select(explode(\"employees\").alias(\"e\"))\n",
    "flattenDF = explodeDF.selectExpr(\"e.firstName\", \"e.lastName\", \"e.email\", \"e.salary\")\n",
    "\n",
    "explodeDF.show(20, False)\n",
    "flattenDF.show(20, False)"
   ]
  },
  {
   "cell_type": "markdown",
   "metadata": {},
   "source": [
    "## Use filter() to return the rows that match a predicate"
   ]
  },
  {
   "cell_type": "code",
   "execution_count": 102,
   "metadata": {},
   "outputs": [
    {
     "data": {
      "text/plain": [
       "DataFrame[firstName: string, lastName: string, email: string, salary: bigint]"
      ]
     },
     "metadata": {},
     "output_type": "display_data"
    },
    {
     "name": "stdout",
     "output_type": "stream",
     "text": [
      "+---------+--------+---------------------+------+\n",
      "|firstName|lastName|email                |salary|\n",
      "+---------+--------+---------------------+------+\n",
      "|xiangrui |meng    |no-reply@stanford.edu|120000|\n",
      "|xiangrui |meng    |no-reply@stanford.edu|120000|\n",
      "+---------+--------+---------------------+------+\n",
      "\n"
     ]
    }
   ],
   "source": [
    "filterDF = flattenDF.filter(flattenDF.firstName == \"xiangrui\").sort(flattenDF.lastName)\n",
    "display(filterDF)\n",
    "filterDF.show(10, False)"
   ]
  },
  {
   "cell_type": "code",
   "execution_count": 103,
   "metadata": {},
   "outputs": [
    {
     "data": {
      "text/plain": [
       "DataFrame[firstName: string, lastName: string, email: string, salary: bigint]"
      ]
     },
     "metadata": {},
     "output_type": "display_data"
    },
    {
     "name": "stdout",
     "output_type": "stream",
     "text": [
      "+---------+--------+---------------------+------+\n",
      "|firstName|lastName|email                |salary|\n",
      "+---------+--------+---------------------+------+\n",
      "|michael  |armbrust|no-reply@berkeley.edu|100000|\n",
      "|michael  |jackson |no-reply@neverla.nd  |80000 |\n",
      "|xiangrui |meng    |no-reply@stanford.edu|120000|\n",
      "|xiangrui |meng    |no-reply@stanford.edu|120000|\n",
      "+---------+--------+---------------------+------+\n",
      "\n"
     ]
    }
   ],
   "source": [
    "from pyspark.sql.functions import col, asc\n",
    "\n",
    "# Use `|` instead of `or`\n",
    "filterDF = flattenDF.filter((col(\"firstName\") == \"xiangrui\") | (col(\"firstName\") == \"michael\")).sort(asc(\"lastName\"))\n",
    "display(filterDF)\n",
    "filterDF.show(10, False)"
   ]
  },
  {
   "cell_type": "markdown",
   "metadata": {},
   "source": [
    "## The where() clause is equivalent to filter()"
   ]
  },
  {
   "cell_type": "code",
   "execution_count": 104,
   "metadata": {},
   "outputs": [
    {
     "data": {
      "text/plain": [
       "DataFrame[firstName: string, lastName: string, email: string, salary: bigint]"
      ]
     },
     "metadata": {},
     "output_type": "display_data"
    },
    {
     "name": "stdout",
     "output_type": "stream",
     "text": [
      "+---------+--------+---------------------+------+\n",
      "|firstName|lastName|email                |salary|\n",
      "+---------+--------+---------------------+------+\n",
      "|michael  |armbrust|no-reply@berkeley.edu|100000|\n",
      "|michael  |jackson |no-reply@neverla.nd  |80000 |\n",
      "|xiangrui |meng    |no-reply@stanford.edu|120000|\n",
      "|xiangrui |meng    |no-reply@stanford.edu|120000|\n",
      "+---------+--------+---------------------+------+\n",
      "\n"
     ]
    }
   ],
   "source": [
    "whereDF = flattenDF.where((col(\"firstName\") == \"xiangrui\") | (col(\"firstName\") == \"michael\")).sort(asc(\"lastName\"))\n",
    "display(whereDF)\n",
    "whereDF.show(10, False)"
   ]
  },
  {
   "cell_type": "markdown",
   "metadata": {},
   "source": [
    "## Replace null values with -- using DataFrame Na function"
   ]
  },
  {
   "cell_type": "code",
   "execution_count": 105,
   "metadata": {},
   "outputs": [
    {
     "data": {
      "text/plain": [
       "DataFrame[firstName: string, lastName: string, email: string, salary: bigint]"
      ]
     },
     "metadata": {},
     "output_type": "display_data"
    },
    {
     "name": "stdout",
     "output_type": "stream",
     "text": [
      "+---------+--------+---------------------+------+\n",
      "|firstName|lastName|email                |salary|\n",
      "+---------+--------+---------------------+------+\n",
      "|michael  |armbrust|no-reply@berkeley.edu|100000|\n",
      "|xiangrui |meng    |no-reply@stanford.edu|120000|\n",
      "|matei    |--      |no-reply@waterloo.edu|140000|\n",
      "|--       |wendell |no-reply@berkeley.edu|160000|\n",
      "|michael  |jackson |no-reply@neverla.nd  |80000 |\n",
      "|--       |wendell |no-reply@berkeley.edu|160000|\n",
      "|xiangrui |meng    |no-reply@stanford.edu|120000|\n",
      "|matei    |--      |no-reply@waterloo.edu|140000|\n",
      "+---------+--------+---------------------+------+\n",
      "\n"
     ]
    }
   ],
   "source": [
    "nonNullDF = flattenDF.fillna(\"--\")\n",
    "display(nonNullDF)\n",
    "nonNullDF.show(10, False)"
   ]
  },
  {
   "cell_type": "code",
   "execution_count": 112,
   "metadata": {},
   "outputs": [
    {
     "name": "stdout",
     "output_type": "stream",
     "text": [
      "+---------+--------+--------------------+------+\n",
      "|firstName|lastName|               email|salary|\n",
      "+---------+--------+--------------------+------+\n",
      "|  michael|armbrust|no-reply@berkeley...|100000|\n",
      "| xiangrui|    meng|no-reply@stanford...|120000|\n",
      "|    matei|      --|no-reply@waterloo...|140000|\n",
      "|       --| wendell|no-reply@berkeley...|160000|\n",
      "|  michael| jackson| no-reply@neverla.nd| 80000|\n",
      "|       --| wendell|no-reply@berkeley...|160000|\n",
      "| xiangrui|    meng|no-reply@stanford...|120000|\n",
      "|    matei|      --|no-reply@waterloo...|140000|\n",
      "+---------+--------+--------------------+------+\n",
      "\n"
     ]
    }
   ],
   "source": [
    "nonNullDF.createOrReplaceTempView(\"nonNullDF\")\n",
    "a = spark.sql(\"SELECT * from nonNullDF\")\n",
    "a.show()"
   ]
  },
  {
   "cell_type": "markdown",
   "metadata": {},
   "source": [
    "## Retrieve only rows with missing firstName or lastName"
   ]
  },
  {
   "cell_type": "code",
   "execution_count": 107,
   "metadata": {},
   "outputs": [
    {
     "data": {
      "text/plain": [
       "DataFrame[firstName: string, lastName: string, email: string, salary: bigint]"
      ]
     },
     "metadata": {},
     "output_type": "display_data"
    },
    {
     "name": "stdout",
     "output_type": "stream",
     "text": [
      "+---------+--------+---------------------+------+\n",
      "|firstName|lastName|email                |salary|\n",
      "+---------+--------+---------------------+------+\n",
      "|null     |wendell |no-reply@berkeley.edu|160000|\n",
      "|null     |wendell |no-reply@berkeley.edu|160000|\n",
      "|matei    |null    |no-reply@waterloo.edu|140000|\n",
      "|matei    |null    |no-reply@waterloo.edu|140000|\n",
      "+---------+--------+---------------------+------+\n",
      "\n"
     ]
    }
   ],
   "source": [
    "filterNonNullDF = flattenDF.filter(col(\"firstName\").isNull() | col(\"lastName\").isNull()).sort(\"email\")\n",
    "display(filterNonNullDF)\n",
    "filterNonNullDF.show(10, False)"
   ]
  },
  {
   "cell_type": "markdown",
   "metadata": {},
   "source": [
    "## Example aggregations using agg() and countDistinct()"
   ]
  },
  {
   "cell_type": "code",
   "execution_count": 108,
   "metadata": {},
   "outputs": [
    {
     "data": {
      "text/plain": [
       "DataFrame[firstName: string, distinct_last_names: bigint]"
      ]
     },
     "metadata": {},
     "output_type": "display_data"
    },
    {
     "name": "stdout",
     "output_type": "stream",
     "text": [
      "+---------+-------------------+\n",
      "|firstName|distinct_last_names|\n",
      "+---------+-------------------+\n",
      "|xiangrui |1                  |\n",
      "|matei    |1                  |\n",
      "|michael  |2                  |\n",
      "|--       |1                  |\n",
      "+---------+-------------------+\n",
      "\n"
     ]
    }
   ],
   "source": [
    "from pyspark.sql.functions import countDistinct\n",
    "\n",
    "countDistinctDF = nonNullDF.select(\"firstName\", \"lastName\")\\\n",
    "  .groupBy(\"firstName\")\\\n",
    "  .agg(countDistinct(\"lastName\").alias(\"distinct_last_names\"))\n",
    "\n",
    "display(countDistinctDF)\n",
    "countDistinctDF.show(10, False)"
   ]
  },
  {
   "cell_type": "markdown",
   "metadata": {},
   "source": [
    "## Compare the DataFrame and SQL query physical plans"
   ]
  },
  {
   "cell_type": "code",
   "execution_count": 89,
   "metadata": {},
   "outputs": [
    {
     "name": "stdout",
     "output_type": "stream",
     "text": [
      "== Physical Plan ==\n",
      "*(5) HashAggregate(keys=[firstName#553], functions=[count(distinct lastName#554)])\n",
      "+- Exchange hashpartitioning(firstName#553, 200)\n",
      "   +- *(4) HashAggregate(keys=[firstName#553], functions=[partial_count(distinct lastName#554)])\n",
      "      +- *(4) HashAggregate(keys=[firstName#553, lastName#554], functions=[])\n",
      "         +- Exchange hashpartitioning(firstName#553, lastName#554, 200)\n",
      "            +- *(3) HashAggregate(keys=[firstName#553, lastName#554], functions=[])\n",
      "               +- *(3) Project [coalesce(e#526.firstName, --) AS firstName#553, coalesce(e#526.lastName, --) AS lastName#554]\n",
      "                  +- Generate explode(employees#485), false, [e#526]\n",
      "                     +- Coalesce 2\n",
      "                        +- Union\n",
      "                           :- *(1) Project [employees#485]\n",
      "                           :  +- Scan ExistingRDD[department#484,employees#485]\n",
      "                           +- *(2) Project [employees#496]\n",
      "                              +- Scan ExistingRDD[department#495,employees#496]\n"
     ]
    }
   ],
   "source": [
    "countDistinctDF.explain()"
   ]
  },
  {
   "cell_type": "code",
   "execution_count": 90,
   "metadata": {},
   "outputs": [
    {
     "name": "stdout",
     "output_type": "stream",
     "text": [
      "== Physical Plan ==\n",
      "*(5) HashAggregate(keys=[firstName#553], functions=[count(distinct lastName#554)])\n",
      "+- Exchange hashpartitioning(firstName#553, 200)\n",
      "   +- *(4) HashAggregate(keys=[firstName#553], functions=[partial_count(distinct lastName#554)])\n",
      "      +- *(4) HashAggregate(keys=[firstName#553, lastName#554], functions=[])\n",
      "         +- Exchange hashpartitioning(firstName#553, lastName#554, 200)\n",
      "            +- *(3) HashAggregate(keys=[firstName#553, lastName#554], functions=[])\n",
      "               +- *(3) Project [coalesce(e#526.firstName, --) AS firstName#553, coalesce(e#526.lastName, --) AS lastName#554]\n",
      "                  +- Generate explode(employees#485), false, [e#526]\n",
      "                     +- Coalesce 2\n",
      "                        +- Union\n",
      "                           :- *(1) Project [employees#485]\n",
      "                           :  +- Scan ExistingRDD[department#484,employees#485]\n",
      "                           +- *(2) Project [employees#496]\n",
      "                              +- Scan ExistingRDD[department#495,employees#496]\n"
     ]
    }
   ],
   "source": [
    "# register the DataFrame as a temp table so that we can query it using SQL\n",
    "nonNullDF.createOrReplaceTempView(\"databricks_df_example\")\n",
    "\n",
    "# Perform the same query as the DataFrame above and return ``explain``\n",
    "countDistinctDF_sql = spark.sql('''\n",
    "  SELECT firstName, count(distinct lastName) AS distinct_last_names\n",
    "  FROM databricks_df_example\n",
    "  GROUP BY firstName\n",
    "''')\n",
    "\n",
    "countDistinctDF_sql.explain()"
   ]
  },
  {
   "cell_type": "markdown",
   "metadata": {},
   "source": [
    "## Sum up all the salaries"
   ]
  },
  {
   "cell_type": "code",
   "execution_count": 91,
   "metadata": {},
   "outputs": [
    {
     "data": {
      "text/plain": [
       "DataFrame[sum(salary): bigint]"
      ]
     },
     "metadata": {},
     "output_type": "display_data"
    }
   ],
   "source": [
    "salarySumDF = nonNullDF.agg({\"salary\" : \"sum\"})\n",
    "display(salarySumDF)"
   ]
  },
  {
   "cell_type": "code",
   "execution_count": 92,
   "metadata": {},
   "outputs": [
    {
     "data": {
      "text/plain": [
       "pyspark.sql.column.Column"
      ]
     },
     "execution_count": 92,
     "metadata": {},
     "output_type": "execute_result"
    }
   ],
   "source": [
    "type(nonNullDF.salary)"
   ]
  },
  {
   "cell_type": "markdown",
   "metadata": {},
   "source": [
    "## Print the summary statistics for the salaries"
   ]
  },
  {
   "cell_type": "code",
   "execution_count": 93,
   "metadata": {},
   "outputs": [
    {
     "name": "stdout",
     "output_type": "stream",
     "text": [
      "+-------+------------------+\n",
      "|summary|            salary|\n",
      "+-------+------------------+\n",
      "|  count|                 8|\n",
      "|   mean|          127500.0|\n",
      "| stddev|28157.719063467175|\n",
      "|    min|             80000|\n",
      "|    max|            160000|\n",
      "+-------+------------------+\n",
      "\n"
     ]
    }
   ],
   "source": [
    "nonNullDF.describe(\"salary\").show()"
   ]
  },
  {
   "cell_type": "markdown",
   "metadata": {},
   "source": [
    "## An example using pandas and Matplotlib integration"
   ]
  },
  {
   "cell_type": "code",
   "execution_count": 94,
   "metadata": {},
   "outputs": [
    {
     "data": {
      "text/plain": [
       "<Figure size 432x288 with 0 Axes>"
      ]
     },
     "metadata": {},
     "output_type": "display_data"
    },
    {
     "data": {
      "image/png": "[encoded data removed]",
      "text/plain": [
       "<Figure size 432x288 with 1 Axes>"
      ]
     },
     "metadata": {
      "needs_background": "light"
     },
     "output_type": "display_data"
    }
   ],
   "source": [
    "import pandas as pd\n",
    "import matplotlib.pyplot as plt\n",
    "plt.clf()\n",
    "pdDF = nonNullDF.toPandas()\n",
    "pdDF.plot(x='firstName', y='salary', kind='bar', rot=45)\n",
    "display()"
   ]
  },
  {
   "cell_type": "code",
   "execution_count": null,
   "metadata": {},
   "outputs": [],
   "source": []
  }
 ],
 "metadata": {
  "kernelspec": {
   "display_name": "Python 3",
   "language": "python",
   "name": "python3"
  },
  "language_info": {
   "codemirror_mode": {
    "name": "ipython",
    "version": 3
   },
   "file_extension": ".py",
   "mimetype": "text/x-python",
   "name": "python",
   "nbconvert_exporter": "python",
   "pygments_lexer": "ipython3",
   "version": "3.7.3"
  }
 },
 "nbformat": 4,
 "nbformat_minor": 2
}
