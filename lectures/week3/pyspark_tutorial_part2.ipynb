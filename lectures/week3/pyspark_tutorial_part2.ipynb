{
 "cells": [
  {
   "cell_type": "markdown",
   "metadata": {},
   "source": [
    "## Spark Context"
   ]
  },
  {
   "cell_type": "code",
   "execution_count": 1,
   "metadata": {},
   "outputs": [],
   "source": [
    "from pyspark.sql import SparkSession\n",
    "spark = SparkSession.builder.getOrCreate()\n",
    "sc = spark.sparkContext"
   ]
  },
  {
   "cell_type": "code",
   "execution_count": 2,
   "metadata": {},
   "outputs": [],
   "source": [
    "sc.stop()  # this is how to stop the context (sometimes useful to release memory in Spark)"
   ]
  },
  {
   "cell_type": "code",
   "execution_count": 3,
   "metadata": {},
   "outputs": [],
   "source": [
    "spark = SparkSession.builder.getOrCreate()\n",
    "sc = spark.sparkContext"
   ]
  },
  {
   "cell_type": "markdown",
   "metadata": {},
   "source": [
    "## Simple RDDs, map, collect, and take"
   ]
  },
  {
   "cell_type": "code",
   "execution_count": 4,
   "metadata": {},
   "outputs": [],
   "source": [
    "# start with an easy handmade dataset with temperature data in Celsius\n",
    "# the goal:  convert this data to Kelvin (recall that 0 C = 273.15 K)\n",
    "temperature_C = [5, 6, 6, 10, 15, 20, 19, 18]  # right now this data is local.  It is here on the \"driver\"\n",
    "\n",
    "# create an RDD (resilient distributed dataset)\n",
    "temperature_C_rdd = sc.parallelize(temperature_C)  # this pushes data out to worker machines\n",
    "\n",
    "def convert_celsius_to_kelvin(tempC):\n",
    "    return tempC + 273.15\n",
    "\n",
    "temperature_K_rdd = temperature_C_rdd.map(convert_celsius_to_kelvin)"
   ]
  },
  {
   "cell_type": "code",
   "execution_count": 5,
   "metadata": {},
   "outputs": [
    {
     "data": {
      "text/plain": [
       "[278.15, 279.15, 279.15, 283.15, 288.15, 293.15, 292.15, 291.15]"
      ]
     },
     "execution_count": 5,
     "metadata": {},
     "output_type": "execute_result"
    }
   ],
   "source": [
    "temperature_K_rdd.collect() # bring all results back to driver"
   ]
  },
  {
   "cell_type": "code",
   "execution_count": 6,
   "metadata": {},
   "outputs": [
    {
     "data": {
      "text/plain": [
       "[278.15, 279.15, 279.15]"
      ]
     },
     "execution_count": 6,
     "metadata": {},
     "output_type": "execute_result"
    }
   ],
   "source": [
    "# for large datasets .collect() will try to pull too much data back.  To inspect just a few use .take() instead\n",
    "temperature_K_rdd.take(3)"
   ]
  },
  {
   "cell_type": "code",
   "execution_count": 7,
   "metadata": {},
   "outputs": [],
   "source": [
    "# Using a lambda instead could've cut out a few lines of code\n",
    "temperature_K_rdd = temperature_C_rdd.map(lambda tempC: tempC + 273.15)"
   ]
  },
  {
   "cell_type": "code",
   "execution_count": 8,
   "metadata": {},
   "outputs": [
    {
     "data": {
      "text/plain": [
       "[278.15, 279.15, 279.15]"
      ]
     },
     "execution_count": 8,
     "metadata": {},
     "output_type": "execute_result"
    }
   ],
   "source": [
    "temperature_K_rdd.take(3)"
   ]
  },
  {
   "cell_type": "markdown",
   "metadata": {},
   "source": [
    "## Reduce"
   ]
  },
  {
   "cell_type": "code",
   "execution_count": 9,
   "metadata": {},
   "outputs": [
    {
     "data": {
      "text/plain": [
       "59"
      ]
     },
     "execution_count": 9,
     "metadata": {},
     "output_type": "execute_result"
    }
   ],
   "source": [
    "kid_ages = [6, 8, 2, 9, 10, 13, 7, 4]\n",
    "\n",
    "# create an RDD\n",
    "kid_ages_rdd = sc.parallelize(kid_ages)\n",
    "\n",
    "sum_kid_ages = kid_ages_rdd.reduce(lambda x, y: x+y)\n",
    "sum_kid_ages"
   ]
  },
  {
   "cell_type": "code",
   "execution_count": 10,
   "metadata": {},
   "outputs": [
    {
     "data": {
      "text/plain": [
       "7.375"
      ]
     },
     "execution_count": 10,
     "metadata": {},
     "output_type": "execute_result"
    }
   ],
   "source": [
    "num_kids = kid_ages_rdd.count()\n",
    "avg_kid_age = sum_kid_ages/num_kids\n",
    "avg_kid_age"
   ]
  },
  {
   "cell_type": "markdown",
   "metadata": {},
   "source": [
    "## Exercise\n",
    "\n",
    "Suppose that RDDs did not come with the handy `.count()` function.  Can you think of a way, using `map` and `reduce`, to count the number of elements in an RDD?  For example, count the number of kids."
   ]
  },
  {
   "cell_type": "code",
   "execution_count": 11,
   "metadata": {},
   "outputs": [
    {
     "data": {
      "text/plain": [
       "[1, 1, 1]"
      ]
     },
     "execution_count": 11,
     "metadata": {},
     "output_type": "execute_result"
    }
   ],
   "source": [
    "kid_indicator_rdd = kid_ages_rdd.map(lambda x: 1)\n",
    "kid_indicator_rdd.take(3)"
   ]
  },
  {
   "cell_type": "code",
   "execution_count": 12,
   "metadata": {},
   "outputs": [
    {
     "data": {
      "text/plain": [
       "8"
      ]
     },
     "execution_count": 12,
     "metadata": {},
     "output_type": "execute_result"
    }
   ],
   "source": [
    "num_kids = kid_indicator_rdd.reduce(lambda x, y: x+y)\n",
    "num_kids"
   ]
  },
  {
   "cell_type": "markdown",
   "metadata": {},
   "source": [
    "## Partitions\n",
    "\n",
    "*Partitioning* is the process of distributing data across workers.  This allows workers to process in parallel.  The final results are then collated and combined.\n",
    "\n",
    "Under the hood, each worker machine is subdivided into \"executors\".    Often 1 executor = 1 core.\n",
    "\n",
    "You should have # partitions at LEAST equal to the total number of executors in your cluster, otherwise some executors will just sit idle.\n",
    "\n",
    "Each partition is processed sequentially on a single executor.  There is one *task* per element in the partition."
   ]
  },
  {
   "cell_type": "code",
   "execution_count": 13,
   "metadata": {},
   "outputs": [
    {
     "name": "stdout",
     "output_type": "stream",
     "text": [
      "hellothere\n",
      "hello there\n",
      "5.6\n"
     ]
    }
   ],
   "source": [
    "# ASIDE:  string concatenation\n",
    "strconcat = \"hello\" + \"there\"\n",
    "print(strconcat)\n",
    "strconcat = \"hello\" + \" \" + \"there\"\n",
    "print(strconcat)\n",
    "\n",
    "# converting numbers into strings\n",
    "numstr = str(5.6)\n",
    "print(numstr)"
   ]
  },
  {
   "cell_type": "code",
   "execution_count": 14,
   "metadata": {},
   "outputs": [
    {
     "data": {
      "text/plain": [
       "'(5 7)'"
      ]
     },
     "execution_count": 14,
     "metadata": {},
     "output_type": "execute_result"
    }
   ],
   "source": [
    "# let's SEE partitioning by examining the ORDER in which reduce is applied\n",
    "def visualize_combine(x, y):\n",
    "    return \"(\" + str(x) + \" \" + str(y) + \")\"\n",
    "\n",
    "# test it\n",
    "visualize_combine(5, 7)"
   ]
  },
  {
   "cell_type": "code",
   "execution_count": 15,
   "metadata": {},
   "outputs": [
    {
     "data": {
      "text/plain": [
       "'(5 (7 10))'"
      ]
     },
     "execution_count": 15,
     "metadata": {},
     "output_type": "execute_result"
    }
   ],
   "source": [
    "visualize_combine(5, visualize_combine(7, 10))"
   ]
  },
  {
   "cell_type": "code",
   "execution_count": 16,
   "metadata": {},
   "outputs": [
    {
     "data": {
      "text/plain": [
       "'((5 7) 10)'"
      ]
     },
     "execution_count": 16,
     "metadata": {},
     "output_type": "execute_result"
    }
   ],
   "source": [
    "visualize_combine(visualize_combine(5, 7), 10)"
   ]
  },
  {
   "cell_type": "code",
   "execution_count": 17,
   "metadata": {},
   "outputs": [
    {
     "data": {
      "text/plain": [
       "'(((((((6 8) 2) 9) 10) 13) 7) 4)'"
      ]
     },
     "execution_count": 17,
     "metadata": {},
     "output_type": "execute_result"
    }
   ],
   "source": [
    "# let's reduce an RDD that has only a single partition\n",
    "kid_ages_rdd.reduce(visualize_combine)"
   ]
  },
  {
   "cell_type": "code",
   "execution_count": 18,
   "metadata": {},
   "outputs": [],
   "source": [
    "# let's partition the kid ages into 2 partitions\n",
    "kid_ages_rdd2 = sc.parallelize(kid_ages, 2)  # second argument specifies number of partitions"
   ]
  },
  {
   "cell_type": "code",
   "execution_count": 19,
   "metadata": {},
   "outputs": [
    {
     "data": {
      "text/plain": [
       "'((((6 8) 2) 9) (((10 13) 7) 4))'"
      ]
     },
     "execution_count": 19,
     "metadata": {},
     "output_type": "execute_result"
    }
   ],
   "source": [
    "# let's reduce an RDD that has 2 partitions\n",
    "kid_ages_rdd2.reduce(visualize_combine)"
   ]
  },
  {
   "cell_type": "markdown",
   "metadata": {},
   "source": [
    "RESULT IS DIFFERENT DEPENDING ON HOW MANY PARTITIONS YOU SPECIFY!!!\n",
    "\n",
    "We cannot live in a world where different number of partitions gives different results.  Because of this, `reduce` only works when the combine operation is *associative* (in the mathematical sense).\n",
    "\n",
    "((A + B) + C) = (A + (B + C))\n",
    "\n",
    "Other problem:  ORDERING is not guaranteed.  Say you want to `reduce` 3 elements A, B, and C.  Suppose each element is the result of a previous computation.\n",
    "\n",
    "If A and C are ready before B then `reduce` might combine them in this order:  ((A C) B)\n",
    "If A and B are ready before C then `reduce` might combine them in this order:  ((A B) C)\n",
    "...and so on\n",
    "\n",
    "This also won't be consistent run after run unless the combine operation is *commutative* (in the mathematical sense)\n",
    "\n",
    "(A B) = (B A)"
   ]
  },
  {
   "cell_type": "markdown",
   "metadata": {},
   "source": [
    "## Spark is LAZY\n",
    "\n",
    "### Transformations\n",
    "\n",
    "`map` is an example of a *transformation* on an RDD.  **Transformations** operate on an RDD and produce a new RDD.\n",
    "\n",
    "Recall that, in regular Python (operating on a `list`), `map` is LAZY.  No computation is actually performed until you explicitly ask for the final result.\n",
    "\n",
    "Similarly, all Spark transformations (including Spark's version of `map`) are also lazy.  Nothing is done until absolutely necessary.\n",
    "\n",
    "Transformations can be chained together (the input to a transformation might depend on the output of one or more previous transformation(s)). This builds a so-called dependency **DAG (directed acyclic graph)** of transformations.\n",
    "\n",
    "### Actions\n",
    "\n",
    "**Actions** are operations performed on an RDD that produce a result (e.g. a single number) and bring it back to the driver (BTW this Jupyter notebook IS the \"driver\").\n",
    "\n",
    "`reduce` is a great example of an action.\n",
    "\n",
    "Actions trigger the processing of the dependency DAG (the previous unprocessed transformations).\n",
    "\n",
    "Other actions that you've already seen:\n",
    "\n",
    "- .collect()    fetches all elements of the RDD and returns to driver\n",
    "- .take(n)    fetches the first n elements of the RDD and returns to driver\n",
    "- .count()    counts how many elements are in the RDD and returns that result to driver"
   ]
  },
  {
   "cell_type": "code",
   "execution_count": 20,
   "metadata": {},
   "outputs": [
    {
     "data": {
      "text/plain": [
       "<map at 0x7f435de08e80>"
      ]
     },
     "execution_count": 20,
     "metadata": {},
     "output_type": "execute_result"
    }
   ],
   "source": [
    "# recall regular Python (operating on lists) is also LAZY (when programming in the functional style)\n",
    "data = [1.6, 2.4, 7.8, 4.6, 2.3]\n",
    "\n",
    "newdata_lazy = map(lambda x: x+1, data)\n",
    "newdata_lazy"
   ]
  },
  {
   "cell_type": "code",
   "execution_count": 21,
   "metadata": {},
   "outputs": [
    {
     "data": {
      "text/plain": [
       "[2.6, 3.4, 8.8, 5.6, 3.3]"
      ]
     },
     "execution_count": 21,
     "metadata": {},
     "output_type": "execute_result"
    }
   ],
   "source": [
    "# I can force the \"action\" by explicitly converting to a list\n",
    "newdata = list(newdata_lazy)\n",
    "newdata"
   ]
  },
  {
   "cell_type": "code",
   "execution_count": 22,
   "metadata": {},
   "outputs": [],
   "source": [
    "# Let's look at the same idea, but in Spark\n",
    "data_rdd = sc.parallelize(data)  # push data to workers to create RDD\n",
    "\n",
    "newdata_rdd = data_rdd.map(lambda x: x+1)  # NOTHING has been done at this point"
   ]
  },
  {
   "cell_type": "code",
   "execution_count": 23,
   "metadata": {},
   "outputs": [
    {
     "data": {
      "text/plain": [
       "[2.6, 3.4, 8.8, 5.6, 3.3]"
      ]
     },
     "execution_count": 23,
     "metadata": {},
     "output_type": "execute_result"
    }
   ],
   "source": [
    "# perform the .collect() action to bring the modified list back to driver\n",
    "newdata = newdata_rdd.collect()\n",
    "newdata"
   ]
  },
  {
   "cell_type": "markdown",
   "metadata": {},
   "source": [
    "### More complicated example of creating a DAG of transformations, then trigger with an action"
   ]
  },
  {
   "cell_type": "code",
   "execution_count": 24,
   "metadata": {},
   "outputs": [
    {
     "data": {
      "text/plain": [
       "array([ 4.68392855e+00, -8.74989992e-01,  1.31834533e-01,  2.40502824e-01,\n",
       "        1.47518497e+00, -1.43997527e+00, -3.83936109e-01, -1.52959124e+00,\n",
       "        1.21662077e+00,  5.99404928e-01, -1.08998371e+00, -3.71343319e-01,\n",
       "       -2.67584804e+00, -1.07844308e+00,  7.55193764e-01,  8.99163958e-01,\n",
       "        7.37223316e-01, -3.93237287e-01, -1.06506254e+00,  6.33339891e-01,\n",
       "        2.73912297e+00, -2.70876221e+00,  8.38662448e-01, -1.42038960e+00,\n",
       "        1.97667963e+00, -6.51449961e-02, -6.47555706e-01, -1.60160573e-01,\n",
       "        1.33150307e+00,  1.75560120e-01,  7.67687460e-01,  1.33445991e+00,\n",
       "       -1.62423087e+00, -1.99205304e+00,  2.60706962e+00, -3.41018172e+00,\n",
       "        7.98059775e-01,  1.03740460e-01,  1.60760107e+00,  7.28033918e-01,\n",
       "        5.08587797e-01, -1.90302571e+00, -8.79372988e-01, -4.24084426e-01,\n",
       "        1.01644411e+00, -3.92948710e-01, -2.64586916e-01,  2.01994980e+00,\n",
       "        1.04898043e+00,  4.13005911e-01,  7.29526718e-01,  3.02277713e-01,\n",
       "        2.09641478e-01, -2.95067657e-01,  6.05230080e-01, -2.97923702e+00,\n",
       "        7.91091919e-02,  9.74663830e-01, -2.85719441e-01,  7.15491621e-02,\n",
       "        9.05903780e-01,  1.46034761e+00, -5.25821158e-01,  3.00682696e+00,\n",
       "        7.79237853e-01, -1.09720590e+00,  2.03275332e+00,  1.79538377e-01,\n",
       "        4.98240703e-02, -3.48669458e-01, -1.07296079e+00, -7.61434378e-01,\n",
       "       -7.75963841e-02, -5.88952127e-01,  2.53999615e+00, -9.16471158e-02,\n",
       "        4.65947959e-01,  7.84505408e-01,  2.29326577e+00,  2.77559768e+00,\n",
       "        1.63079242e+00, -9.55769309e-01,  9.69828023e-01, -1.84257821e+00,\n",
       "       -6.04010798e-02, -2.85304573e-01, -2.32347335e+00, -1.24325688e+00,\n",
       "       -1.32645007e+00, -1.00972722e+00, -7.23672593e-01, -1.57134104e+00,\n",
       "        2.68872874e-01,  7.21845443e-02, -1.02931766e+00,  4.87102892e-01,\n",
       "       -1.19006421e+00,  5.04839407e-01, -8.53323881e-03,  4.92477642e-01,\n",
       "       -1.20533242e+00,  8.59761234e-01,  2.29562940e+00,  8.28049477e-01,\n",
       "        7.77493667e-01, -1.93061422e+00,  1.44983169e-01, -2.67137651e-01,\n",
       "       -6.11328086e-01, -1.53306780e-01,  1.71603448e+00, -3.20019135e-01,\n",
       "       -2.55694531e-01, -1.66537363e-01,  2.62210827e-01, -4.65283279e+00,\n",
       "       -3.62806476e-01,  1.03113358e+00, -1.12909061e+00,  3.22982624e-02,\n",
       "       -4.44395356e-02,  3.32144397e+00,  5.87960379e-01, -3.68115197e-01,\n",
       "        9.76683514e-01,  2.06417388e+00, -1.12969216e+00,  1.44321722e+00,\n",
       "        6.55903432e-01, -1.16092867e+00,  5.51966700e-01, -1.72947676e-01,\n",
       "       -1.87761497e+00,  1.40892842e-01,  9.60788302e-01,  1.24192991e+00,\n",
       "       -9.41830963e-01,  5.88946200e-01,  1.56385913e+00, -2.42024763e-02,\n",
       "       -3.48266205e-01, -8.74895047e-01,  1.43643923e+00, -1.05709211e+00,\n",
       "        5.67167950e-01,  2.54234969e+00,  1.11461228e+00,  4.94185331e-01,\n",
       "       -1.98611733e+00, -2.02499557e-02, -1.16216140e+00,  1.40817608e+00,\n",
       "        4.80699979e-01,  3.91071647e+00,  1.73803324e+00,  1.97591954e-01,\n",
       "        1.14527861e-01,  1.70256045e-01, -4.00435006e-01, -4.68948416e-01,\n",
       "        1.09404551e+00, -1.00275828e-03, -1.49386255e-02,  2.26433468e-01,\n",
       "       -1.44838523e+00, -1.00458810e+00, -1.39667156e+00, -2.50834546e+00,\n",
       "        1.62329727e-01, -1.86696426e+00,  4.15920505e-02, -1.63302013e+00,\n",
       "       -7.71105831e-01,  7.09790396e-01,  8.40686286e-01,  4.23982376e-01,\n",
       "       -1.05034416e+00,  6.94611377e-01, -2.15921745e-02,  3.33174834e-01,\n",
       "        1.66738095e-01,  4.80061579e-01,  6.64500819e-01,  2.18118025e+00,\n",
       "        9.15512418e-01,  9.54988370e-01, -4.31059013e+00, -1.77431006e-02,\n",
       "       -3.79411531e-02, -2.12542665e-02, -1.12363452e+00, -3.88661563e-01,\n",
       "       -1.10865728e-01, -1.81886849e-01, -1.68142184e+00,  6.97605018e-01,\n",
       "        5.62314824e+00, -4.30264301e-01, -2.95808775e+00, -2.50283908e-01,\n",
       "       -5.52267180e-01,  1.39218566e+00,  2.90701500e+00,  1.14925090e+00,\n",
       "       -1.22718478e+00,  3.50428830e-01,  6.36142390e-01,  1.63867340e+00,\n",
       "        2.45857337e-01, -1.52091016e+00, -1.26965524e-01,  2.12765710e+00,\n",
       "        4.54469882e-01,  2.78793453e-02,  7.85067496e-01, -1.12458166e-01,\n",
       "       -1.69308592e+00, -8.94038160e-02, -1.41523346e-01,  1.33100916e+00,\n",
       "       -1.27302825e+00, -3.56224849e-01,  1.58203088e+00, -6.60389044e-01,\n",
       "        3.15807337e-01,  8.94905598e-01,  2.43256417e-02,  7.32692048e-01,\n",
       "        6.83567958e-01,  1.18581700e+00, -1.98597436e+00,  1.93508841e+00,\n",
       "        1.27187541e-01, -2.98320299e+00, -3.90384547e-01, -2.51165494e+00,\n",
       "        1.01606061e+00,  1.36863878e-01,  1.14763741e+00, -1.40658405e+00,\n",
       "       -5.76258895e-01,  1.69593606e-01,  2.53490361e+00,  1.56227411e+00,\n",
       "       -3.28097887e+00, -5.76240986e-01, -3.79094610e-02,  2.19679196e-01,\n",
       "       -1.87638680e+00, -1.56160024e-01,  9.47205122e-02,  1.79870518e+00,\n",
       "       -8.33432783e-01, -7.62920639e-02,  3.18629492e+00,  1.26590621e-01,\n",
       "       -1.88515739e+00,  2.57128540e-01,  1.66042907e+00, -3.71530263e-01,\n",
       "        4.80345401e-01, -7.82397385e-01,  5.14655994e-01,  1.72455403e+00,\n",
       "        1.09468533e+00,  1.26202488e+00,  1.68317925e+00, -1.79627621e-01,\n",
       "        3.21581783e-01,  5.24119216e-01, -6.98656720e-01,  1.41633824e+00,\n",
       "       -9.73276533e-01, -6.54984458e-02,  7.15751168e-01,  8.00325185e-01,\n",
       "        1.69236628e-02, -8.48281426e-01, -1.18293294e-01,  2.54280019e-01,\n",
       "       -4.23783217e-01,  1.40979231e+00, -5.77679463e-01,  4.07817334e-02,\n",
       "        1.38271021e-02, -1.22526957e+00, -6.45859268e-01,  4.35012636e-01,\n",
       "       -1.78614805e+00,  4.13723201e+00,  4.04705176e-01, -1.68349617e+00,\n",
       "        6.61060990e-01, -4.65261804e-01,  2.73290946e+00,  2.69814749e-01,\n",
       "       -2.47782977e-01,  3.74916325e-01,  1.86953065e-01, -2.04874730e+00,\n",
       "        3.94199124e-01, -1.27130438e+00,  1.74420419e+00,  4.66612964e-01,\n",
       "       -1.05476711e+00, -4.30299203e+00,  4.18046910e-02, -1.34415587e-01,\n",
       "        1.36308792e+00,  1.99849887e-01, -6.01978040e-01, -9.43852715e-01,\n",
       "       -2.22999958e+00, -4.72546767e+00, -3.53705993e+00,  4.80308725e-02,\n",
       "       -6.07992833e-01, -1.05697014e+00, -2.41807070e+00, -2.33628122e-01,\n",
       "        8.87452736e-02, -9.12150046e-03,  1.00311110e-01, -1.07214363e-01,\n",
       "       -3.17927204e-01,  1.04156639e-01, -2.77269894e+00,  1.77651345e+00,\n",
       "       -9.97250908e-01,  3.95174411e-01,  1.63612157e+00, -8.67436468e-01,\n",
       "        3.45033888e-01, -6.54954899e-01, -5.69098094e-01,  1.61088386e+00,\n",
       "        3.58733097e+00,  3.17503059e-01, -1.87038590e-01,  3.04379506e-01,\n",
       "        6.38378859e-01,  9.90901036e-01,  4.29082467e-02, -1.66703748e-01,\n",
       "        3.09753033e+00,  1.99281213e-01,  4.59913553e+00, -4.26620120e-01,\n",
       "        7.80708060e-01,  8.91695585e-01, -3.64199065e-01, -3.69079216e-02,\n",
       "       -3.64156661e-01,  4.91750767e-02,  4.52018353e-02,  5.88037854e-02,\n",
       "        3.44835712e-01,  1.29726374e+00,  2.10478269e-01, -1.27191220e+00,\n",
       "        2.26489843e-02, -3.16368447e-01, -9.70753069e-01, -2.06948152e-02,\n",
       "        2.28898499e-02,  1.91824921e+00,  5.34703037e-02,  8.45918583e-01,\n",
       "       -5.65795459e-01,  6.35309216e-01, -3.95625678e+00, -2.00049533e+00,\n",
       "       -2.80456212e+00,  1.28786449e+00,  4.65786223e-01,  4.89500466e-03,\n",
       "       -5.44750745e+00, -9.64342848e-02, -1.19815432e+00,  1.13706062e+00,\n",
       "        1.91405676e-01,  1.49223162e-02,  4.47946929e+00,  2.63435635e+00,\n",
       "       -6.22409354e-01, -3.16826237e+00, -2.48582141e-01, -1.50291608e-01,\n",
       "       -2.01571167e+00,  6.14050030e-01, -9.35041001e-02,  1.25934427e-02,\n",
       "        4.09084823e-01, -2.50430407e+00,  2.27153234e-01,  1.53295650e-02,\n",
       "       -5.47645164e-01,  4.39327947e+00, -1.91160752e+00,  2.62874336e-01,\n",
       "        9.86292903e-01,  3.15991946e+00, -1.75092700e-01, -4.17469196e-01,\n",
       "        5.74082856e-02,  1.80964489e-01,  1.06580300e+00, -8.12777265e-02,\n",
       "       -1.51504102e-01, -3.04353920e-01,  2.86865155e+00,  1.90836165e+00,\n",
       "       -6.66015005e-01, -2.18555224e+00,  5.58595625e-02, -7.06543223e-01,\n",
       "        1.78486847e+00,  1.22623453e+00, -3.35930568e-01, -9.73045462e-02,\n",
       "       -1.07725463e+00, -7.02836010e-01,  1.95864259e-01,  6.24707980e-01,\n",
       "       -7.07232244e-01,  5.84978160e-01, -7.29179088e-01, -1.62130745e+00,\n",
       "       -1.69028303e+00,  3.92702050e-01,  1.32295836e+00, -3.52833427e-01,\n",
       "        1.83645064e-01,  8.00859632e-02, -1.65308498e+00,  1.94616112e+00,\n",
       "       -1.09798766e+00, -6.99271100e-01, -3.67780825e-01,  3.65428311e-01,\n",
       "        6.12291366e-01,  1.26170091e+00,  5.63031921e-01, -1.84705244e+00,\n",
       "        3.03008350e-01, -5.22205450e+00, -4.43225594e-01,  1.43549638e-01,\n",
       "       -1.79604659e+00, -1.10777126e+00,  5.71622127e-01,  5.87719029e-02,\n",
       "       -3.16091954e+00, -2.72684064e-01, -3.15651079e+00,  7.73692878e-01,\n",
       "       -7.74166070e-02, -1.98707130e-01, -6.70319714e-01,  2.35102877e-01,\n",
       "       -2.76211008e-02, -5.27523357e-01,  2.08512592e+00, -2.41681039e+00,\n",
       "        1.20473307e+00,  2.93956957e-01,  1.10042015e+00, -5.82647006e-01,\n",
       "        1.33078631e+00,  6.39165995e-01, -7.50418588e-02,  2.64159561e-01,\n",
       "       -1.56552419e+00, -1.68786754e+00,  3.93644825e-01, -4.27993620e-02,\n",
       "        1.34105939e-01,  3.78331311e-01, -2.11590736e+00, -5.60197310e-02,\n",
       "        7.07356775e-02,  4.76052828e-01,  5.25394445e-01,  2.70634360e-01,\n",
       "        2.95126709e-01, -8.60142705e-01,  7.95932874e-01,  2.12450021e+00,\n",
       "        4.59239542e-01, -2.02926026e-02, -3.67878308e-01,  6.36468661e-02,\n",
       "       -1.25262705e+00,  1.48508030e+00,  2.20640708e+00,  1.09876556e+00,\n",
       "        8.38100360e-01,  1.10346929e+00, -1.17592467e+00, -6.59477681e-01,\n",
       "       -2.39352492e-01, -6.63441685e-01, -8.95293184e-04, -3.25042678e+00,\n",
       "       -3.59839886e-01,  1.18957819e+00,  1.03465522e+00,  2.25997334e+00,\n",
       "        4.91068808e-01, -5.80048301e-01, -2.55342191e-01,  2.86926421e+00,\n",
       "        1.02925904e+00,  2.03502931e-01,  4.52882035e-01, -2.15686642e+00,\n",
       "        2.85154765e+00,  1.77820111e+00, -2.26899834e+00, -1.46070800e+00,\n",
       "       -1.32560296e+00,  7.87477999e-01,  8.59284000e-01,  1.88337284e-01,\n",
       "        4.40324629e-01,  1.36049766e+00, -1.42212844e-01, -5.31443790e-01,\n",
       "        1.23904022e+00,  6.64577751e-01,  2.59309229e+00, -4.06155690e-01,\n",
       "       -1.54632745e-01,  1.30586827e+00, -1.49252730e+00,  2.86538299e-01,\n",
       "       -1.02617280e+00, -1.78808727e+00,  2.58465554e-01, -3.47689683e+00,\n",
       "        2.02636210e-02,  1.44236518e-01, -2.06188750e+00, -4.95541172e-02,\n",
       "        4.89101155e-01,  4.94988947e-01,  6.68763313e-01, -2.10390764e+00,\n",
       "        5.84623765e-01, -1.34308880e+00, -1.44228701e+00, -3.03746025e+00,\n",
       "        8.34124160e-01,  4.31057786e-01,  1.10712447e+00, -1.28914368e-01,\n",
       "        6.60868365e-01,  7.47174882e-01,  2.44259803e-01, -8.02449688e-01,\n",
       "        1.57291564e-01,  7.12677702e-01, -8.29627257e-01, -1.48257522e+00,\n",
       "        5.83493118e-01,  1.29383175e+00,  1.02078554e-02,  9.68594355e-01,\n",
       "        9.85128433e-02, -3.55842298e-01, -3.39466371e-01,  8.54036002e-01,\n",
       "       -3.37422513e+00,  2.55644955e-01,  7.16563172e-01, -2.96738027e-01,\n",
       "       -1.06618227e+00, -1.96300337e+00, -2.19747917e+00, -3.10808671e+00,\n",
       "        1.77435995e-01,  1.78932671e+00,  1.48510380e+00, -3.67788131e-01,\n",
       "       -1.48196802e+00, -1.03659593e+00, -3.04057124e+00, -5.58953404e-01,\n",
       "        2.87546474e+00,  4.09369777e-01,  4.31138178e+00,  6.02443598e-01,\n",
       "        2.79441319e-01,  1.15222776e+00,  1.38500983e-01,  1.06938364e+00,\n",
       "       -3.84462260e-01,  5.65455869e-01,  1.10702900e+00, -9.06606756e-01,\n",
       "       -1.45466886e+00,  1.24720801e+00, -3.69283767e+00,  2.02490088e+00,\n",
       "        1.06990756e+00,  7.41280764e-01, -1.56188235e+00, -4.33834700e-01,\n",
       "       -7.75286716e-01, -4.11280867e-01,  4.10925363e-01,  1.83789441e+00,\n",
       "       -3.95393468e-01,  5.97502367e-02,  5.86493620e-01, -3.13754340e+00,\n",
       "       -1.95175002e+00,  1.43338468e+00, -3.32242852e-01,  3.68729847e-01,\n",
       "       -9.97414411e-01,  3.41445889e-01, -1.02776957e+00, -3.58456454e+00,\n",
       "       -7.76816402e-02,  4.58371377e-01,  1.88052879e+00,  2.83028069e-01,\n",
       "       -2.08968686e+00, -1.04340359e+00, -5.77269051e-01,  2.34768591e+00,\n",
       "       -3.02630662e-01,  1.36833087e-01, -5.14740788e-01, -1.68178006e-01,\n",
       "       -1.86244337e+00,  3.38906344e-01, -4.30833860e-01, -7.25303309e-01,\n",
       "       -1.48088656e-01, -8.16246397e-01, -1.90318788e-01,  2.05806589e-01,\n",
       "       -6.52770264e-01,  1.10614738e-02,  1.02407539e-01,  2.37245381e-01,\n",
       "        7.83648452e-01, -1.19486732e+00,  1.56447465e+00,  3.78149183e+00,\n",
       "        1.35156965e-01,  1.25094660e+00, -1.03952521e+00, -1.18169272e-01,\n",
       "        1.81596860e-01,  3.13381835e-01,  2.85002397e-01,  1.07577629e-01,\n",
       "       -3.43475659e+00,  1.85363088e-01,  1.73866764e-01, -3.08414155e-01,\n",
       "       -1.06337309e+00, -3.03993858e-02, -1.58073850e+00, -2.46490371e-01,\n",
       "        1.18562516e+00, -1.22271402e-01,  8.52189401e-01,  7.16576159e-01,\n",
       "       -9.59675829e-01,  2.37765469e+00,  3.73773182e-01, -4.54563839e-01,\n",
       "       -3.28321538e-01, -1.48392648e-01,  2.91826295e-01, -4.21971816e-01,\n",
       "       -1.15014955e+00,  1.62040712e+00,  5.91118124e-01, -1.11887411e+00,\n",
       "       -6.10306283e-01,  7.92674869e-01, -9.09258216e-02,  5.51255426e-01,\n",
       "        7.98583425e-01,  6.67713518e-01, -7.24375017e-01,  3.53239057e-01,\n",
       "       -1.13715084e+00,  3.01747819e-01,  8.25034661e-01,  8.88206819e-01,\n",
       "       -4.10722193e-02, -3.78252836e-01, -4.00968852e+00,  3.10974894e-01,\n",
       "       -2.92306104e+00, -2.70267533e-01, -4.09359419e-01,  1.26763102e-01,\n",
       "       -1.07315016e+00, -1.76257403e+00, -1.28661585e+00, -6.27525977e-01,\n",
       "        4.38998664e-01, -5.70426844e-01, -6.27894962e-01, -4.09097062e-01,\n",
       "        1.61595334e+00,  1.16095590e-01,  7.78083907e-01, -2.55816120e-01,\n",
       "        5.38962989e-02, -1.06495593e+00,  1.31565189e-01,  1.42314999e+00,\n",
       "        5.85660339e+00, -2.35307987e+00, -6.77438449e-01,  1.63024751e+00,\n",
       "        8.61962946e-02,  4.13775051e-01, -6.20396304e-01,  2.80361900e+00,\n",
       "        2.17048540e-01,  1.44150649e+00, -1.05447876e+00,  5.78451005e-01,\n",
       "        1.72344315e-02,  2.05221754e+00,  4.81196089e-01, -8.13733207e-02,\n",
       "        1.44601180e+00,  1.09699176e+00, -2.66573984e-01,  1.44803795e-01,\n",
       "        2.30924915e-01,  5.38894461e-01,  4.48435827e-01,  6.71225190e-02,\n",
       "        2.03310788e-01,  1.66131122e-01, -6.82648440e-01, -5.91034229e-01,\n",
       "       -5.51057686e-01,  4.82977023e-01, -3.90036180e-01, -2.22946212e+00,\n",
       "        7.58161745e-01, -1.68884225e+00, -1.78512415e+00,  8.87304591e-01,\n",
       "        4.34999998e-01, -2.50470637e+00,  1.60538774e+00,  4.13374966e-01,\n",
       "        1.32731416e-01,  6.52717355e-01, -5.41771740e-01,  1.46858876e+00,\n",
       "        1.71832902e+00, -6.48494516e-01, -5.61995335e-01,  1.14833100e+00,\n",
       "        3.39618686e+00, -3.48345421e-01,  1.66425506e+00,  4.13737170e+00,\n",
       "       -8.03142750e-01, -1.17100070e+00, -1.72385699e+00, -1.12655911e+00,\n",
       "       -2.29619156e+00,  8.58378421e-01,  2.94593017e-01, -1.05355009e+00,\n",
       "        4.43293304e-01,  3.48936726e-01, -1.20452192e+00, -1.48262450e+00,\n",
       "        7.77250111e+00, -2.01492346e+00, -2.51483942e+00,  3.47137270e-01,\n",
       "        1.01616457e-01,  3.67935212e-02, -3.35925118e-01,  1.25426570e+00,\n",
       "        3.35328794e-01, -3.84301205e-01,  3.03816325e-02,  2.61406162e+00,\n",
       "        6.44011031e-01, -4.67288980e-01, -3.76832150e-01, -3.89371117e-01,\n",
       "        1.73267919e+00,  1.01143306e-01,  2.72886214e+00, -1.65651721e-01,\n",
       "        5.38655547e-01, -1.58220797e+00, -1.19658010e+00, -1.42816957e+00,\n",
       "        2.06579297e-01, -1.24579197e-03,  1.19816267e+00,  2.40647791e-01,\n",
       "        6.49185803e-01, -1.15506523e-01, -4.73462644e-01,  1.23308916e+00,\n",
       "        1.24472787e+00, -1.09871548e+00,  8.61117651e-01,  6.74526399e-01,\n",
       "        2.18168065e+00,  9.51393601e-01, -1.09071017e-01,  2.55243530e-01,\n",
       "        6.96247864e-01,  6.86354133e-01,  5.84314215e-01,  4.35897010e+00,\n",
       "       -1.15902618e+00, -5.33835044e-01,  1.53751706e+00,  1.69673807e+00,\n",
       "        6.36506768e-02,  7.74013608e-01,  6.44942609e-01, -1.06677515e+00,\n",
       "        9.00708142e-02, -5.68264723e-03, -5.54923536e-01, -2.93722463e-02,\n",
       "       -5.64848964e-01,  1.57494193e+00, -5.03475254e-01,  7.40843554e-01,\n",
       "       -2.05411499e-02, -1.79897662e-01,  7.57450476e-01,  1.53673221e-01,\n",
       "        1.28577619e+00,  7.99797834e-01,  4.48359383e-01,  5.97037504e+00,\n",
       "       -5.87008451e-01,  3.28123725e-01,  2.50478470e-01, -1.07393748e+00,\n",
       "        1.72683889e+00, -1.46539371e-01,  3.42673361e+00, -1.02340020e+00,\n",
       "       -3.91072026e+00, -1.99613514e+00, -5.77589985e-01,  9.99465273e-01,\n",
       "       -4.95847946e+00, -8.52967517e-02,  1.41245526e-01, -1.08126900e+00,\n",
       "       -2.13340172e-01,  4.67142211e-01, -4.91577197e-02,  1.56300875e+00,\n",
       "       -1.41257303e+00,  2.00755471e-02, -5.21344385e-01,  1.02750772e+00,\n",
       "        1.12983490e-02,  2.77245318e-01, -2.17959085e+00,  5.37977011e-01,\n",
       "       -1.68836296e+00,  5.22062851e-01,  8.43275219e-01,  5.93661463e-01,\n",
       "        4.56249234e-01, -7.80854987e-01,  2.10968982e-01, -1.07405316e+00,\n",
       "       -3.71355826e-02, -1.88813988e+00,  1.11073282e-01,  9.00406939e-02,\n",
       "        6.52649810e-01,  2.80161184e-01, -1.74118688e+00, -8.55140618e-01,\n",
       "        6.37042021e-01, -6.03420748e-02,  1.08114707e+00, -7.25582868e-01,\n",
       "       -2.14181725e-01, -4.55960951e-02,  6.18170186e-01,  8.96483733e-01,\n",
       "        1.32918862e-02,  1.27902024e-01, -1.56305716e+00,  7.34662379e-01,\n",
       "        1.90468507e-01, -2.48328326e-01,  1.56314813e-01, -1.87989382e+00,\n",
       "        5.70966507e-01, -1.16417564e-01, -3.33955452e-01,  9.12721983e-02,\n",
       "        3.07153069e+00, -8.94887925e-01,  3.35499696e-01, -7.11103002e-01,\n",
       "       -6.81216090e-01,  3.81385693e-01,  4.11926582e-01,  3.88699391e+00,\n",
       "       -1.65991854e-01, -3.95658792e-01,  2.15438896e+00, -1.73370104e-01,\n",
       "        1.57895120e-02,  1.14198720e+00, -5.15693159e-01,  2.73663677e-02,\n",
       "        1.05477308e-02, -2.77791364e+00, -1.09143733e+00,  8.11332272e-01,\n",
       "       -7.47772991e-01,  1.43538336e-01,  1.15188300e+00,  3.67107495e-02,\n",
       "       -8.50501280e-01,  3.87804652e-01, -2.81147475e-01, -1.19961087e+00,\n",
       "       -1.01319700e-03,  6.35282342e-01,  7.61716298e-01,  1.26511890e+00,\n",
       "        1.01235281e+00,  8.59921132e-01, -1.67653900e+00, -7.02352132e-02,\n",
       "        2.41624348e+00,  1.04059865e+00,  4.24369599e-01, -3.50600970e-01,\n",
       "       -1.60218358e+00, -2.61480419e-01,  4.21441837e-01,  7.91299998e-01,\n",
       "       -1.95969469e-01, -2.78926986e-01,  1.61847507e-01,  2.64308892e-01,\n",
       "       -2.08171979e+00, -1.27449161e+00,  9.40740136e-01,  1.52059600e+00,\n",
       "       -2.94319724e-02,  4.62171147e-02, -1.15682860e+00, -3.26829126e-01,\n",
       "        1.13531214e-02, -2.60603315e-01, -1.95580240e+00, -1.38025442e+00,\n",
       "       -4.40474454e-01, -1.73778806e+00, -9.66013791e-01, -1.33097986e+00,\n",
       "       -1.86004565e+00, -3.94377320e+00, -1.21629236e+00,  2.00043243e+00,\n",
       "        1.46223324e-01, -9.60457124e-01,  4.41159983e-01, -4.16518487e+00,\n",
       "       -9.35349298e-01, -8.72299167e-01, -1.02425557e+00,  2.49530262e-01,\n",
       "        1.07913970e+00,  1.63455700e+00, -3.23915028e-01,  6.39471960e-02,\n",
       "       -8.53629684e-01, -7.36550100e-01,  1.23270220e-01, -1.08934084e+00])"
      ]
     },
     "execution_count": 24,
     "metadata": {},
     "output_type": "execute_result"
    }
   ],
   "source": [
    "import numpy as np\n",
    "\n",
    "# generate some random samples from the Laplace distribution (remember your stock returns!)\n",
    "location = 0.0\n",
    "scale = 1.0\n",
    "data = np.random.laplace(location, scale, 1000)\n",
    "data"
   ]
  },
  {
   "cell_type": "code",
   "execution_count": 25,
   "metadata": {},
   "outputs": [
    {
     "data": {
      "image/png": "[encoded data removed]",
      "text/plain": [
       "<Figure size 432x288 with 1 Axes>"
      ]
     },
     "metadata": {
      "needs_background": "light"
     },
     "output_type": "display_data"
    }
   ],
   "source": [
    "# let's plot a histogram\n",
    "import matplotlib.pyplot as plt\n",
    "\n",
    "bins = 40\n",
    "plt.hist(data, bins, density=True)\n",
    "plt.show()"
   ]
  },
  {
   "cell_type": "code",
   "execution_count": 26,
   "metadata": {},
   "outputs": [],
   "source": [
    "# Remember:  numpy arrays are very much like \"beefed up\" lists\n",
    "# We can actually parallelize them to RDDs just like lists\n",
    "\n",
    "data_rdd = sc.parallelize(data, 4)"
   ]
  },
  {
   "cell_type": "code",
   "execution_count": 27,
   "metadata": {},
   "outputs": [],
   "source": [
    "# Let's filter our data for only POSITIVE stock returns (because I only like good news)\n",
    "# .filter() is a transformation\n",
    "filtered_data_rdd = data_rdd.filter(lambda x: x >= 0)"
   ]
  },
  {
   "cell_type": "code",
   "execution_count": 28,
   "metadata": {},
   "outputs": [],
   "source": [
    "# Let's subsample to make the calculations go faster\n",
    "# .sample() is a transformation\n",
    "with_replacement = True\n",
    "sample_fraction = 0.5\n",
    "\n",
    "subsampled_data_rdd = filtered_data_rdd.sample(with_replacement, sample_fraction)"
   ]
  },
  {
   "cell_type": "code",
   "execution_count": 29,
   "metadata": {},
   "outputs": [],
   "source": [
    "# If I want *exactly* reproducible results then must specify the random SEED (computers only really have PSEUDOrandom algorithms)\n",
    "random_seed = 123\n",
    "subsampled_data_rdd = filtered_data_rdd.sample(with_replacement, sample_fraction, random_seed)"
   ]
  },
  {
   "cell_type": "code",
   "execution_count": 30,
   "metadata": {},
   "outputs": [
    {
     "data": {
      "text/plain": [
       "249"
      ]
     },
     "execution_count": 30,
     "metadata": {},
     "output_type": "execute_result"
    }
   ],
   "source": [
    "# UP TO NOW NO WORK HAS BEEN DONE!!!  Only a DAG has been constructed\n",
    "\n",
    "# Let's perform an action to trigger the DAG\n",
    "# Let's count our data \n",
    "subsampled_data_rdd.count()"
   ]
  },
  {
   "cell_type": "code",
   "execution_count": 31,
   "metadata": {},
   "outputs": [
    {
     "data": {
      "text/plain": [
       "1.0553027393726273"
      ]
     },
     "execution_count": 31,
     "metadata": {},
     "output_type": "execute_result"
    }
   ],
   "source": [
    "# Let's compute the standard deviation of my positive returns\n",
    "# .stddev() is also an action.  It trigers the DAG above.\n",
    "# Do you think Spark will recompute everything from the beginning?  Or is it smarter than that?\n",
    "sigma = subsampled_data_rdd.stdev()\n",
    "sigma"
   ]
  },
  {
   "cell_type": "code",
   "execution_count": 32,
   "metadata": {},
   "outputs": [],
   "source": [
    "# Let's collect all the data back and graph it\n",
    "# .collect() is also an action\n",
    "subsampled_data = subsampled_data_rdd.collect()"
   ]
  },
  {
   "cell_type": "code",
   "execution_count": 33,
   "metadata": {},
   "outputs": [
    {
     "data": {
      "image/png": "[encoded data removed]",
      "text/plain": [
       "<Figure size 432x288 with 1 Axes>"
      ]
     },
     "metadata": {
      "needs_background": "light"
     },
     "output_type": "display_data"
    }
   ],
   "source": [
    "bins = 40\n",
    "plt.hist(subsampled_data, bins, density=True)\n",
    "plt.show()"
   ]
  },
  {
   "cell_type": "code",
   "execution_count": null,
   "metadata": {},
   "outputs": [],
   "source": []
  }
 ],
 "metadata": {
  "kernelspec": {
   "display_name": "Python 3",
   "language": "python",
   "name": "python3"
  },
  "language_info": {
   "codemirror_mode": {
    "name": "ipython",
    "version": 3
   },
   "file_extension": ".py",
   "mimetype": "text/x-python",
   "name": "python",
   "nbconvert_exporter": "python",
   "pygments_lexer": "ipython3",
   "version": "3.7.3"
  }
 },
 "nbformat": 4,
 "nbformat_minor": 2
}
