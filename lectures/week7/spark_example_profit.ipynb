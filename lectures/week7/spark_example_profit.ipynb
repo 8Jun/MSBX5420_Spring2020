{
 "cells": [
  {
   "cell_type": "code",
   "execution_count": 1,
   "metadata": {},
   "outputs": [
    {
     "name": "stdout",
     "output_type": "stream",
     "text": [
      "Profit is 89540.3205451792\n"
     ]
    }
   ],
   "source": [
    "from __future__ import print_function\n",
    "\n",
    "import sys\n",
    "from operator import add\n",
    "from random import random\n",
    "\n",
    "from pyspark.sql import SparkSession\n",
    "from pyspark.sql.functions import udf\n",
    "from pyspark.sql.types import IntegerType\n",
    "import random\n",
    "\n",
    "\n",
    "def get_random_int(_):\n",
    "    return random.randint(0, 10)\n",
    "\n",
    "\n",
    "def simulation(row):\n",
    "    \"\"\"\n",
    "    get simulation result\n",
    "    :return:\n",
    "    \"\"\"\n",
    "    fixed_cost = 120000\n",
    "    profit = row.volume * (row.price - row.cost) - fixed_cost\n",
    "    return profit\n",
    "\n",
    "\n",
    "# get simulation fraction\n",
    "simulation_fraction = 100.0\n",
    "\n",
    "# create sparkcontext\n",
    "spark = SparkSession.builder.getOrCreate()\n",
    "\n",
    "# load sales and cost dataframe\n",
    "sales_df = spark.read.json(\"./sales_scenarios.json\")\n",
    "cost_df = spark.read.json(\"./sales_cost.json\")\n",
    "\n",
    "# define a udf to create new column with random int\n",
    "udf_get_random_int = udf(get_random_int, IntegerType())\n",
    "\n",
    "# sample sales dataframe with random int\n",
    "sampled_sales_df = sales_df.sample(withReplacement=True, fraction=simulation_fraction)\n",
    "sampled_sales_with_randint_df = sampled_sales_df.withColumn(\"randint\", udf_get_random_int('sales_scenarios'))\n",
    "\n",
    "# sample cost dataframe with random int\n",
    "sampled_cost_df = cost_df.sample(withReplacement=True, fraction=simulation_fraction)\n",
    "sampled_cost_with_randint_df = sampled_cost_df.withColumn(\"randint\", udf_get_random_int('name'))\n",
    "\n",
    "# get joined dataframe\n",
    "joined_df = sampled_sales_with_randint_df.join(sampled_cost_with_randint_df,\n",
    "                                               sampled_sales_with_randint_df.randint == sampled_cost_with_randint_df.randint)\n",
    "\n",
    "# get total profit by map reduce with profit simulation\n",
    "total_profit = joined_df.rdd.map(simulation).reduce(add)\n",
    "total_simulations = joined_df.count()\n",
    "\n",
    "print('Profit is {}'.format(total_profit / total_simulations))\n",
    "\n",
    "spark.stop()"
   ]
  },
  {
   "cell_type": "code",
   "execution_count": null,
   "metadata": {},
   "outputs": [],
   "source": []
  }
 ],
 "metadata": {
  "kernelspec": {
   "display_name": "Python 3",
   "language": "python",
   "name": "python3"
  },
  "language_info": {
   "codemirror_mode": {
    "name": "ipython",
    "version": 3
   },
   "file_extension": ".py",
   "mimetype": "text/x-python",
   "name": "python",
   "nbconvert_exporter": "python",
   "pygments_lexer": "ipython3",
   "version": "3.7.3"
  }
 },
 "nbformat": 4,
 "nbformat_minor": 2
}
