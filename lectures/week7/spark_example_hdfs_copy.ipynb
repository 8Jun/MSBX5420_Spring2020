{
 "cells": [
  {
   "cell_type": "markdown",
   "metadata": {},
   "source": [
    "# Copy files from source directory to target directory"
   ]
  },
  {
   "cell_type": "code",
   "execution_count": 5,
   "metadata": {},
   "outputs": [
    {
     "ename": "ModuleNotFoundError",
     "evalue": "No module named 'pydoop'",
     "traceback": [
      "\u001b[0;31m---------------------------------------------------------------------------\u001b[0m",
      "\u001b[0;31mModuleNotFoundError\u001b[0m                       Traceback (most recent call last)",
      "\u001b[0;32m<ipython-input-5-411559cbff51>\u001b[0m in \u001b[0;36m<module>\u001b[0;34m\u001b[0m\n\u001b[1;32m      1\u001b[0m \u001b[0;32mfrom\u001b[0m \u001b[0mpyspark\u001b[0m\u001b[0;34m.\u001b[0m\u001b[0msql\u001b[0m \u001b[0;32mimport\u001b[0m \u001b[0mSparkSession\u001b[0m\u001b[0;34m\u001b[0m\u001b[0;34m\u001b[0m\u001b[0m\n\u001b[0;32m----> 2\u001b[0;31m \u001b[0;32mimport\u001b[0m \u001b[0mpydoop\u001b[0m\u001b[0;34m.\u001b[0m\u001b[0mhdfs\u001b[0m \u001b[0;32mas\u001b[0m \u001b[0mpyhdfs\u001b[0m\u001b[0;34m\u001b[0m\u001b[0;34m\u001b[0m\u001b[0m\n\u001b[0m\u001b[1;32m      3\u001b[0m \u001b[0;32mimport\u001b[0m \u001b[0mos\u001b[0m\u001b[0;34m\u001b[0m\u001b[0;34m\u001b[0m\u001b[0m\n\u001b[1;32m      4\u001b[0m \u001b[0;34m\u001b[0m\u001b[0m\n\u001b[1;32m      5\u001b[0m \u001b[0;32mdef\u001b[0m \u001b[0mcopy_file\u001b[0m\u001b[0;34m(\u001b[0m\u001b[0msrc_path\u001b[0m\u001b[0;34m,\u001b[0m \u001b[0mdst_path\u001b[0m\u001b[0;34m)\u001b[0m\u001b[0;34m:\u001b[0m\u001b[0;34m\u001b[0m\u001b[0;34m\u001b[0m\u001b[0m\n",
      "\u001b[0;31mModuleNotFoundError\u001b[0m: No module named 'pydoop'"
     ],
     "output_type": "error"
    }
   ],
   "source": [
    "from pyspark.sql import SparkSession\n",
    "import pydoop.hdfs as pyhdfs\n",
    "import os\n",
    "\n",
    "def copy_file(src_path, dst_path):\n",
    "    \"\"\"\n",
    "    copy one path\n",
    "    :param src_path:\n",
    "    :param dst_path:\n",
    "    \"\"\"\n",
    "    if not pyhdfs.path.exists(dst_path):\n",
    "        pyhdfs.cp(src_path, dst_path)\n",
    "    return\n",
    "\n",
    "\n",
    "src_dir = 'hdfs://msbx5420-m/user/peter'\n",
    "dst_dir = 'hdfs://msbx5420-m/test'\n",
    "\n",
    "# create dst_dir if not exist\n",
    "if not pyhdfs.path.exists(dst_dir):\n",
    "    pyhdfs.mkdir(dst_dir)\n",
    "\n",
    "# create sparkcontext\n",
    "spark = SparkSession.builder.getOrCreate()\n",
    "sc = spark.sparkContext\n",
    "\n",
    "# create children path rdd\n",
    "children_paths = pyhdfs.ls(src_dir)\n",
    "children_paths_rdd = sc.parallelize(children_paths)\n",
    "\n",
    "# each executor task is to copy one children path\n",
    "children_paths_rdd.foreach(\n",
    "    lambda file_path: copy_file(file_path, os.path.join(dst_dir, os.path.basename(file_path))))\n",
    "\n",
    "# stop sparkcontext\n",
    "sc.stop()"
   ]
  },
  {
   "cell_type": "code",
   "execution_count": null,
   "metadata": {},
   "outputs": [],
   "source": []
  }
 ],
 "metadata": {
  "kernelspec": {
   "display_name": "Python 3",
   "language": "python",
   "name": "python3"
  },
  "language_info": {
   "codemirror_mode": {
    "name": "ipython",
    "version": 3
   },
   "file_extension": ".py",
   "mimetype": "text/x-python",
   "name": "python",
   "nbconvert_exporter": "python",
   "pygments_lexer": "ipython3",
   "version": "3.7.3"
  }
 },
 "nbformat": 4,
 "nbformat_minor": 2
}
